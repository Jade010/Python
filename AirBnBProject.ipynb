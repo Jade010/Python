{
 "cells": [
  {
   "cell_type": "markdown",
   "metadata": {},
   "source": [
    "# Airbnb Listing Analysis\n",
    "\n",
    "Airbnb has drastically revolutionized the way people travel, impacting traditional hospitality sectors and offering a unique way for property owners to generate income. With this platform growing rapidly and its data becoming widely available, it offers a rich ground for analytical exploration.\n",
    "\n",
    "This project aims to analyze an Airbnb listing dataset, comprised of various features like geographical location, host details, property specifics, pricing, and review scores, among others. The data consists of 6636 listings, each associated with 18 unique attributes. By examining this data, I hope to uncover insights that may help property owners optimize their listing features, price their offerings effectively, and better understand what influences traveler decisions.\n",
    "\n",
    "My specific objective is to answer the question: \"What factors significantly influence the pricing of an Airbnb listing?\". To accomplish this, I will employ various data analysis techniques and comparing the performance of different data structures to store the data while conducting my investigation.\n",
    "\n",
    "In the subsequent sections, I will clean and preprocess the data, perform exploratory data analysis, implement my chosen models, and finally evaluate their performance. I will also delve into the specific operations on the data and explain why they are essential to our investigation. Throughout this project, I aim to offer a comprehensive understanding of the data, the analysis process, and the final conclusions."
   ]
  },
  {
   "cell_type": "markdown",
   "metadata": {},
   "source": [
    "## Creating the DataFrame\n",
    "\n",
    "I start this project off by reading in a flat file of my Airbnb listing data for Seattle, Washington. "
   ]
  },
  {
   "cell_type": "code",
   "execution_count": 548,
   "metadata": {},
   "outputs": [
    {
     "data": {
      "text/html": [
       "<div>\n",
       "<style scoped>\n",
       "    .dataframe tbody tr th:only-of-type {\n",
       "        vertical-align: middle;\n",
       "    }\n",
       "\n",
       "    .dataframe tbody tr th {\n",
       "        vertical-align: top;\n",
       "    }\n",
       "\n",
       "    .dataframe thead th {\n",
       "        text-align: right;\n",
       "    }\n",
       "</style>\n",
       "<table border=\"1\" class=\"dataframe\">\n",
       "  <thead>\n",
       "    <tr style=\"text-align: right;\">\n",
       "      <th></th>\n",
       "      <th>id</th>\n",
       "      <th>name</th>\n",
       "      <th>host_id</th>\n",
       "      <th>host_name</th>\n",
       "      <th>neighbourhood_group</th>\n",
       "      <th>neighbourhood</th>\n",
       "      <th>latitude</th>\n",
       "      <th>longitude</th>\n",
       "      <th>room_type</th>\n",
       "      <th>price</th>\n",
       "      <th>minimum_nights</th>\n",
       "      <th>number_of_reviews</th>\n",
       "      <th>last_review</th>\n",
       "      <th>reviews_per_month</th>\n",
       "      <th>calculated_host_listings_count</th>\n",
       "      <th>availability_365</th>\n",
       "      <th>number_of_reviews_ltm</th>\n",
       "      <th>license</th>\n",
       "    </tr>\n",
       "  </thead>\n",
       "  <tbody>\n",
       "    <tr>\n",
       "      <th>0</th>\n",
       "      <td>13226114</td>\n",
       "      <td>Home in Seattle · ★4.79 · 2 bedrooms · 4 beds ...</td>\n",
       "      <td>1884549</td>\n",
       "      <td>Denise &amp; Sean</td>\n",
       "      <td>Rainier Valley</td>\n",
       "      <td>Columbia City</td>\n",
       "      <td>47.56555</td>\n",
       "      <td>-122.29385</td>\n",
       "      <td>Entire home/apt</td>\n",
       "      <td>240</td>\n",
       "      <td>4</td>\n",
       "      <td>24</td>\n",
       "      <td>2022-12-01</td>\n",
       "      <td>0.28</td>\n",
       "      <td>1</td>\n",
       "      <td>9</td>\n",
       "      <td>5</td>\n",
       "      <td>STR-OPLI-19-000171</td>\n",
       "    </tr>\n",
       "    <tr>\n",
       "      <th>1</th>\n",
       "      <td>12518952</td>\n",
       "      <td>Guest suite in Seattle · ★5.0 · 2 bedrooms · 6...</td>\n",
       "      <td>12677600</td>\n",
       "      <td>Joe</td>\n",
       "      <td>Other neighborhoods</td>\n",
       "      <td>Green Lake</td>\n",
       "      <td>47.68243</td>\n",
       "      <td>-122.33086</td>\n",
       "      <td>Entire home/apt</td>\n",
       "      <td>200</td>\n",
       "      <td>3</td>\n",
       "      <td>60</td>\n",
       "      <td>2023-06-13</td>\n",
       "      <td>0.71</td>\n",
       "      <td>1</td>\n",
       "      <td>113</td>\n",
       "      <td>9</td>\n",
       "      <td>STR-OPLI-19-002061</td>\n",
       "    </tr>\n",
       "    <tr>\n",
       "      <th>2</th>\n",
       "      <td>521597880867717063</td>\n",
       "      <td>Serviced apartment in Seattle · Studio · 1 bath</td>\n",
       "      <td>48005494</td>\n",
       "      <td>Zeus</td>\n",
       "      <td>Ballard</td>\n",
       "      <td>Adams</td>\n",
       "      <td>47.66646</td>\n",
       "      <td>-122.37650</td>\n",
       "      <td>Entire home/apt</td>\n",
       "      <td>81</td>\n",
       "      <td>30</td>\n",
       "      <td>2</td>\n",
       "      <td>2023-04-10</td>\n",
       "      <td>0.44</td>\n",
       "      <td>36</td>\n",
       "      <td>191</td>\n",
       "      <td>2</td>\n",
       "      <td>NaN</td>\n",
       "    </tr>\n",
       "    <tr>\n",
       "      <th>3</th>\n",
       "      <td>17889172</td>\n",
       "      <td>Rental unit in Seattle · ★5.0 · 1 bedroom · 1 ...</td>\n",
       "      <td>66909032</td>\n",
       "      <td>Randy</td>\n",
       "      <td>Other neighborhoods</td>\n",
       "      <td>Wallingford</td>\n",
       "      <td>47.65480</td>\n",
       "      <td>-122.34042</td>\n",
       "      <td>Entire home/apt</td>\n",
       "      <td>125</td>\n",
       "      <td>30</td>\n",
       "      <td>28</td>\n",
       "      <td>2023-05-06</td>\n",
       "      <td>0.38</td>\n",
       "      <td>4</td>\n",
       "      <td>307</td>\n",
       "      <td>4</td>\n",
       "      <td>STR-OPLI-19-000865</td>\n",
       "    </tr>\n",
       "    <tr>\n",
       "      <th>4</th>\n",
       "      <td>15917796</td>\n",
       "      <td>Home in Seattle · ★4.60 · Studio · 3 beds · 1 ...</td>\n",
       "      <td>38021932</td>\n",
       "      <td>Rocky</td>\n",
       "      <td>Capitol Hill</td>\n",
       "      <td>Montlake</td>\n",
       "      <td>47.64017</td>\n",
       "      <td>-122.32271</td>\n",
       "      <td>Entire home/apt</td>\n",
       "      <td>128</td>\n",
       "      <td>30</td>\n",
       "      <td>31</td>\n",
       "      <td>2022-07-31</td>\n",
       "      <td>0.38</td>\n",
       "      <td>1</td>\n",
       "      <td>316</td>\n",
       "      <td>2</td>\n",
       "      <td>STR-OPLI-19-003016</td>\n",
       "    </tr>\n",
       "    <tr>\n",
       "      <th>...</th>\n",
       "      <td>...</td>\n",
       "      <td>...</td>\n",
       "      <td>...</td>\n",
       "      <td>...</td>\n",
       "      <td>...</td>\n",
       "      <td>...</td>\n",
       "      <td>...</td>\n",
       "      <td>...</td>\n",
       "      <td>...</td>\n",
       "      <td>...</td>\n",
       "      <td>...</td>\n",
       "      <td>...</td>\n",
       "      <td>...</td>\n",
       "      <td>...</td>\n",
       "      <td>...</td>\n",
       "      <td>...</td>\n",
       "      <td>...</td>\n",
       "      <td>...</td>\n",
       "    </tr>\n",
       "    <tr>\n",
       "      <th>6631</th>\n",
       "      <td>33833730</td>\n",
       "      <td>Serviced apartment in Seattle · ★3.0 · 1 bedro...</td>\n",
       "      <td>124558729</td>\n",
       "      <td>Matt</td>\n",
       "      <td>Downtown</td>\n",
       "      <td>Central Business District</td>\n",
       "      <td>47.60874</td>\n",
       "      <td>-122.33744</td>\n",
       "      <td>Entire home/apt</td>\n",
       "      <td>215</td>\n",
       "      <td>30</td>\n",
       "      <td>3</td>\n",
       "      <td>2019-06-25</td>\n",
       "      <td>0.06</td>\n",
       "      <td>4</td>\n",
       "      <td>0</td>\n",
       "      <td>0</td>\n",
       "      <td>NaN</td>\n",
       "    </tr>\n",
       "    <tr>\n",
       "      <th>6632</th>\n",
       "      <td>33845521</td>\n",
       "      <td>Serviced apartment in Seattle · 1 bedroom · 1 ...</td>\n",
       "      <td>124558729</td>\n",
       "      <td>Matt</td>\n",
       "      <td>Downtown</td>\n",
       "      <td>Central Business District</td>\n",
       "      <td>47.60888</td>\n",
       "      <td>-122.33545</td>\n",
       "      <td>Entire home/apt</td>\n",
       "      <td>200</td>\n",
       "      <td>30</td>\n",
       "      <td>0</td>\n",
       "      <td>NaN</td>\n",
       "      <td>NaN</td>\n",
       "      <td>4</td>\n",
       "      <td>0</td>\n",
       "      <td>0</td>\n",
       "      <td>NaN</td>\n",
       "    </tr>\n",
       "    <tr>\n",
       "      <th>6633</th>\n",
       "      <td>4400811</td>\n",
       "      <td>Home in Seattle · ★4.85 · 2 bedrooms · 2 beds ...</td>\n",
       "      <td>4199445</td>\n",
       "      <td>Liam</td>\n",
       "      <td>Rainier Valley</td>\n",
       "      <td>Mount Baker</td>\n",
       "      <td>47.57129</td>\n",
       "      <td>-122.29086</td>\n",
       "      <td>Entire home/apt</td>\n",
       "      <td>189</td>\n",
       "      <td>4</td>\n",
       "      <td>119</td>\n",
       "      <td>2023-06-10</td>\n",
       "      <td>1.15</td>\n",
       "      <td>2</td>\n",
       "      <td>2</td>\n",
       "      <td>9</td>\n",
       "      <td>STR-OPLI-19-001423</td>\n",
       "    </tr>\n",
       "    <tr>\n",
       "      <th>6634</th>\n",
       "      <td>36519711</td>\n",
       "      <td>Home in Seattle · 1 bedroom · 1 bed · 1 privat...</td>\n",
       "      <td>6645582</td>\n",
       "      <td>John</td>\n",
       "      <td>Other neighborhoods</td>\n",
       "      <td>Wedgwood</td>\n",
       "      <td>47.69405</td>\n",
       "      <td>-122.30236</td>\n",
       "      <td>Private room</td>\n",
       "      <td>70</td>\n",
       "      <td>30</td>\n",
       "      <td>0</td>\n",
       "      <td>NaN</td>\n",
       "      <td>NaN</td>\n",
       "      <td>1</td>\n",
       "      <td>0</td>\n",
       "      <td>0</td>\n",
       "      <td>NaN</td>\n",
       "    </tr>\n",
       "    <tr>\n",
       "      <th>6635</th>\n",
       "      <td>51107857</td>\n",
       "      <td>Serviced apartment in Seattle · ★4.30 · 1 bedr...</td>\n",
       "      <td>122723469</td>\n",
       "      <td>Pierre</td>\n",
       "      <td>Other neighborhoods</td>\n",
       "      <td>Fremont</td>\n",
       "      <td>47.65952</td>\n",
       "      <td>-122.34785</td>\n",
       "      <td>Entire home/apt</td>\n",
       "      <td>280</td>\n",
       "      <td>30</td>\n",
       "      <td>10</td>\n",
       "      <td>2021-10-24</td>\n",
       "      <td>0.43</td>\n",
       "      <td>1</td>\n",
       "      <td>0</td>\n",
       "      <td>0</td>\n",
       "      <td>Exempt</td>\n",
       "    </tr>\n",
       "  </tbody>\n",
       "</table>\n",
       "<p>6636 rows × 18 columns</p>\n",
       "</div>"
      ],
      "text/plain": [
       "                      id                                               name   \n",
       "0               13226114  Home in Seattle · ★4.79 · 2 bedrooms · 4 beds ...  \\\n",
       "1               12518952  Guest suite in Seattle · ★5.0 · 2 bedrooms · 6...   \n",
       "2     521597880867717063    Serviced apartment in Seattle · Studio · 1 bath   \n",
       "3               17889172  Rental unit in Seattle · ★5.0 · 1 bedroom · 1 ...   \n",
       "4               15917796  Home in Seattle · ★4.60 · Studio · 3 beds · 1 ...   \n",
       "...                  ...                                                ...   \n",
       "6631            33833730  Serviced apartment in Seattle · ★3.0 · 1 bedro...   \n",
       "6632            33845521  Serviced apartment in Seattle · 1 bedroom · 1 ...   \n",
       "6633             4400811  Home in Seattle · ★4.85 · 2 bedrooms · 2 beds ...   \n",
       "6634            36519711  Home in Seattle · 1 bedroom · 1 bed · 1 privat...   \n",
       "6635            51107857  Serviced apartment in Seattle · ★4.30 · 1 bedr...   \n",
       "\n",
       "        host_id      host_name  neighbourhood_group   \n",
       "0       1884549  Denise & Sean       Rainier Valley  \\\n",
       "1      12677600            Joe  Other neighborhoods   \n",
       "2      48005494           Zeus              Ballard   \n",
       "3      66909032          Randy  Other neighborhoods   \n",
       "4      38021932          Rocky         Capitol Hill   \n",
       "...         ...            ...                  ...   \n",
       "6631  124558729           Matt             Downtown   \n",
       "6632  124558729           Matt             Downtown   \n",
       "6633    4199445           Liam       Rainier Valley   \n",
       "6634    6645582           John  Other neighborhoods   \n",
       "6635  122723469         Pierre  Other neighborhoods   \n",
       "\n",
       "                  neighbourhood  latitude  longitude        room_type  price   \n",
       "0                 Columbia City  47.56555 -122.29385  Entire home/apt    240  \\\n",
       "1                    Green Lake  47.68243 -122.33086  Entire home/apt    200   \n",
       "2                         Adams  47.66646 -122.37650  Entire home/apt     81   \n",
       "3                   Wallingford  47.65480 -122.34042  Entire home/apt    125   \n",
       "4                      Montlake  47.64017 -122.32271  Entire home/apt    128   \n",
       "...                         ...       ...        ...              ...    ...   \n",
       "6631  Central Business District  47.60874 -122.33744  Entire home/apt    215   \n",
       "6632  Central Business District  47.60888 -122.33545  Entire home/apt    200   \n",
       "6633                Mount Baker  47.57129 -122.29086  Entire home/apt    189   \n",
       "6634                   Wedgwood  47.69405 -122.30236     Private room     70   \n",
       "6635                    Fremont  47.65952 -122.34785  Entire home/apt    280   \n",
       "\n",
       "      minimum_nights  number_of_reviews last_review  reviews_per_month   \n",
       "0                  4                 24  2022-12-01               0.28  \\\n",
       "1                  3                 60  2023-06-13               0.71   \n",
       "2                 30                  2  2023-04-10               0.44   \n",
       "3                 30                 28  2023-05-06               0.38   \n",
       "4                 30                 31  2022-07-31               0.38   \n",
       "...              ...                ...         ...                ...   \n",
       "6631              30                  3  2019-06-25               0.06   \n",
       "6632              30                  0         NaN                NaN   \n",
       "6633               4                119  2023-06-10               1.15   \n",
       "6634              30                  0         NaN                NaN   \n",
       "6635              30                 10  2021-10-24               0.43   \n",
       "\n",
       "      calculated_host_listings_count  availability_365  number_of_reviews_ltm   \n",
       "0                                  1                 9                      5  \\\n",
       "1                                  1               113                      9   \n",
       "2                                 36               191                      2   \n",
       "3                                  4               307                      4   \n",
       "4                                  1               316                      2   \n",
       "...                              ...               ...                    ...   \n",
       "6631                               4                 0                      0   \n",
       "6632                               4                 0                      0   \n",
       "6633                               2                 2                      9   \n",
       "6634                               1                 0                      0   \n",
       "6635                               1                 0                      0   \n",
       "\n",
       "                 license  \n",
       "0     STR-OPLI-19-000171  \n",
       "1     STR-OPLI-19-002061  \n",
       "2                    NaN  \n",
       "3     STR-OPLI-19-000865  \n",
       "4     STR-OPLI-19-003016  \n",
       "...                  ...  \n",
       "6631                 NaN  \n",
       "6632                 NaN  \n",
       "6633  STR-OPLI-19-001423  \n",
       "6634                 NaN  \n",
       "6635              Exempt  \n",
       "\n",
       "[6636 rows x 18 columns]"
      ]
     },
     "execution_count": 548,
     "metadata": {},
     "output_type": "execute_result"
    }
   ],
   "source": [
    "import pandas as pd\n",
    "import numpy as np\n",
    "import time\n",
    "\n",
    "Airbnb = pd.read_csv('./listings.csv')\n",
    "Airbnb"
   ]
  },
  {
   "cell_type": "markdown",
   "metadata": {},
   "source": [
    "## Inspecting the data"
   ]
  },
  {
   "cell_type": "markdown",
   "metadata": {},
   "source": [
    "#### What are the column names?"
   ]
  },
  {
   "cell_type": "code",
   "execution_count": 549,
   "metadata": {},
   "outputs": [
    {
     "data": {
      "text/plain": [
       "Index(['id', 'name', 'host_id', 'host_name', 'neighbourhood_group',\n",
       "       'neighbourhood', 'latitude', 'longitude', 'room_type', 'price',\n",
       "       'minimum_nights', 'number_of_reviews', 'last_review',\n",
       "       'reviews_per_month', 'calculated_host_listings_count',\n",
       "       'availability_365', 'number_of_reviews_ltm', 'license'],\n",
       "      dtype='object')"
      ]
     },
     "execution_count": 549,
     "metadata": {},
     "output_type": "execute_result"
    }
   ],
   "source": [
    "Airbnb.columns"
   ]
  },
  {
   "cell_type": "markdown",
   "metadata": {},
   "source": [
    "#### How many rows and columns are there?"
   ]
  },
  {
   "cell_type": "code",
   "execution_count": 550,
   "metadata": {},
   "outputs": [
    {
     "data": {
      "text/plain": [
       "(6636, 18)"
      ]
     },
     "execution_count": 550,
     "metadata": {},
     "output_type": "execute_result"
    }
   ],
   "source": [
    "Airbnb.shape"
   ]
  },
  {
   "cell_type": "markdown",
   "metadata": {},
   "source": [
    "#### What are the data types of each column?"
   ]
  },
  {
   "cell_type": "code",
   "execution_count": 551,
   "metadata": {},
   "outputs": [
    {
     "data": {
      "text/plain": [
       "id                                  int64\n",
       "name                               object\n",
       "host_id                             int64\n",
       "host_name                          object\n",
       "neighbourhood_group                object\n",
       "neighbourhood                      object\n",
       "latitude                          float64\n",
       "longitude                         float64\n",
       "room_type                          object\n",
       "price                               int64\n",
       "minimum_nights                      int64\n",
       "number_of_reviews                   int64\n",
       "last_review                        object\n",
       "reviews_per_month                 float64\n",
       "calculated_host_listings_count      int64\n",
       "availability_365                    int64\n",
       "number_of_reviews_ltm               int64\n",
       "license                            object\n",
       "dtype: object"
      ]
     },
     "execution_count": 551,
     "metadata": {},
     "output_type": "execute_result"
    }
   ],
   "source": [
    "Airbnb.dtypes"
   ]
  },
  {
   "cell_type": "markdown",
   "metadata": {},
   "source": [
    "#### The head of the data"
   ]
  },
  {
   "cell_type": "code",
   "execution_count": 552,
   "metadata": {},
   "outputs": [
    {
     "data": {
      "text/html": [
       "<div>\n",
       "<style scoped>\n",
       "    .dataframe tbody tr th:only-of-type {\n",
       "        vertical-align: middle;\n",
       "    }\n",
       "\n",
       "    .dataframe tbody tr th {\n",
       "        vertical-align: top;\n",
       "    }\n",
       "\n",
       "    .dataframe thead th {\n",
       "        text-align: right;\n",
       "    }\n",
       "</style>\n",
       "<table border=\"1\" class=\"dataframe\">\n",
       "  <thead>\n",
       "    <tr style=\"text-align: right;\">\n",
       "      <th></th>\n",
       "      <th>id</th>\n",
       "      <th>name</th>\n",
       "      <th>host_id</th>\n",
       "      <th>host_name</th>\n",
       "      <th>neighbourhood_group</th>\n",
       "      <th>neighbourhood</th>\n",
       "      <th>latitude</th>\n",
       "      <th>longitude</th>\n",
       "      <th>room_type</th>\n",
       "      <th>price</th>\n",
       "      <th>minimum_nights</th>\n",
       "      <th>number_of_reviews</th>\n",
       "      <th>last_review</th>\n",
       "      <th>reviews_per_month</th>\n",
       "      <th>calculated_host_listings_count</th>\n",
       "      <th>availability_365</th>\n",
       "      <th>number_of_reviews_ltm</th>\n",
       "      <th>license</th>\n",
       "    </tr>\n",
       "  </thead>\n",
       "  <tbody>\n",
       "    <tr>\n",
       "      <th>0</th>\n",
       "      <td>13226114</td>\n",
       "      <td>Home in Seattle · ★4.79 · 2 bedrooms · 4 beds ...</td>\n",
       "      <td>1884549</td>\n",
       "      <td>Denise &amp; Sean</td>\n",
       "      <td>Rainier Valley</td>\n",
       "      <td>Columbia City</td>\n",
       "      <td>47.56555</td>\n",
       "      <td>-122.29385</td>\n",
       "      <td>Entire home/apt</td>\n",
       "      <td>240</td>\n",
       "      <td>4</td>\n",
       "      <td>24</td>\n",
       "      <td>2022-12-01</td>\n",
       "      <td>0.28</td>\n",
       "      <td>1</td>\n",
       "      <td>9</td>\n",
       "      <td>5</td>\n",
       "      <td>STR-OPLI-19-000171</td>\n",
       "    </tr>\n",
       "    <tr>\n",
       "      <th>1</th>\n",
       "      <td>12518952</td>\n",
       "      <td>Guest suite in Seattle · ★5.0 · 2 bedrooms · 6...</td>\n",
       "      <td>12677600</td>\n",
       "      <td>Joe</td>\n",
       "      <td>Other neighborhoods</td>\n",
       "      <td>Green Lake</td>\n",
       "      <td>47.68243</td>\n",
       "      <td>-122.33086</td>\n",
       "      <td>Entire home/apt</td>\n",
       "      <td>200</td>\n",
       "      <td>3</td>\n",
       "      <td>60</td>\n",
       "      <td>2023-06-13</td>\n",
       "      <td>0.71</td>\n",
       "      <td>1</td>\n",
       "      <td>113</td>\n",
       "      <td>9</td>\n",
       "      <td>STR-OPLI-19-002061</td>\n",
       "    </tr>\n",
       "    <tr>\n",
       "      <th>2</th>\n",
       "      <td>521597880867717063</td>\n",
       "      <td>Serviced apartment in Seattle · Studio · 1 bath</td>\n",
       "      <td>48005494</td>\n",
       "      <td>Zeus</td>\n",
       "      <td>Ballard</td>\n",
       "      <td>Adams</td>\n",
       "      <td>47.66646</td>\n",
       "      <td>-122.37650</td>\n",
       "      <td>Entire home/apt</td>\n",
       "      <td>81</td>\n",
       "      <td>30</td>\n",
       "      <td>2</td>\n",
       "      <td>2023-04-10</td>\n",
       "      <td>0.44</td>\n",
       "      <td>36</td>\n",
       "      <td>191</td>\n",
       "      <td>2</td>\n",
       "      <td>NaN</td>\n",
       "    </tr>\n",
       "    <tr>\n",
       "      <th>3</th>\n",
       "      <td>17889172</td>\n",
       "      <td>Rental unit in Seattle · ★5.0 · 1 bedroom · 1 ...</td>\n",
       "      <td>66909032</td>\n",
       "      <td>Randy</td>\n",
       "      <td>Other neighborhoods</td>\n",
       "      <td>Wallingford</td>\n",
       "      <td>47.65480</td>\n",
       "      <td>-122.34042</td>\n",
       "      <td>Entire home/apt</td>\n",
       "      <td>125</td>\n",
       "      <td>30</td>\n",
       "      <td>28</td>\n",
       "      <td>2023-05-06</td>\n",
       "      <td>0.38</td>\n",
       "      <td>4</td>\n",
       "      <td>307</td>\n",
       "      <td>4</td>\n",
       "      <td>STR-OPLI-19-000865</td>\n",
       "    </tr>\n",
       "    <tr>\n",
       "      <th>4</th>\n",
       "      <td>15917796</td>\n",
       "      <td>Home in Seattle · ★4.60 · Studio · 3 beds · 1 ...</td>\n",
       "      <td>38021932</td>\n",
       "      <td>Rocky</td>\n",
       "      <td>Capitol Hill</td>\n",
       "      <td>Montlake</td>\n",
       "      <td>47.64017</td>\n",
       "      <td>-122.32271</td>\n",
       "      <td>Entire home/apt</td>\n",
       "      <td>128</td>\n",
       "      <td>30</td>\n",
       "      <td>31</td>\n",
       "      <td>2022-07-31</td>\n",
       "      <td>0.38</td>\n",
       "      <td>1</td>\n",
       "      <td>316</td>\n",
       "      <td>2</td>\n",
       "      <td>STR-OPLI-19-003016</td>\n",
       "    </tr>\n",
       "  </tbody>\n",
       "</table>\n",
       "</div>"
      ],
      "text/plain": [
       "                   id                                               name   \n",
       "0            13226114  Home in Seattle · ★4.79 · 2 bedrooms · 4 beds ...  \\\n",
       "1            12518952  Guest suite in Seattle · ★5.0 · 2 bedrooms · 6...   \n",
       "2  521597880867717063    Serviced apartment in Seattle · Studio · 1 bath   \n",
       "3            17889172  Rental unit in Seattle · ★5.0 · 1 bedroom · 1 ...   \n",
       "4            15917796  Home in Seattle · ★4.60 · Studio · 3 beds · 1 ...   \n",
       "\n",
       "    host_id      host_name  neighbourhood_group  neighbourhood  latitude   \n",
       "0   1884549  Denise & Sean       Rainier Valley  Columbia City  47.56555  \\\n",
       "1  12677600            Joe  Other neighborhoods     Green Lake  47.68243   \n",
       "2  48005494           Zeus              Ballard          Adams  47.66646   \n",
       "3  66909032          Randy  Other neighborhoods    Wallingford  47.65480   \n",
       "4  38021932          Rocky         Capitol Hill       Montlake  47.64017   \n",
       "\n",
       "   longitude        room_type  price  minimum_nights  number_of_reviews   \n",
       "0 -122.29385  Entire home/apt    240               4                 24  \\\n",
       "1 -122.33086  Entire home/apt    200               3                 60   \n",
       "2 -122.37650  Entire home/apt     81              30                  2   \n",
       "3 -122.34042  Entire home/apt    125              30                 28   \n",
       "4 -122.32271  Entire home/apt    128              30                 31   \n",
       "\n",
       "  last_review  reviews_per_month  calculated_host_listings_count   \n",
       "0  2022-12-01               0.28                               1  \\\n",
       "1  2023-06-13               0.71                               1   \n",
       "2  2023-04-10               0.44                              36   \n",
       "3  2023-05-06               0.38                               4   \n",
       "4  2022-07-31               0.38                               1   \n",
       "\n",
       "   availability_365  number_of_reviews_ltm             license  \n",
       "0                 9                      5  STR-OPLI-19-000171  \n",
       "1               113                      9  STR-OPLI-19-002061  \n",
       "2               191                      2                 NaN  \n",
       "3               307                      4  STR-OPLI-19-000865  \n",
       "4               316                      2  STR-OPLI-19-003016  "
      ]
     },
     "execution_count": 552,
     "metadata": {},
     "output_type": "execute_result"
    }
   ],
   "source": [
    "Airbnb.head()"
   ]
  },
  {
   "cell_type": "markdown",
   "metadata": {},
   "source": [
    "#### The tail end of the data"
   ]
  },
  {
   "cell_type": "code",
   "execution_count": 553,
   "metadata": {},
   "outputs": [
    {
     "data": {
      "text/html": [
       "<div>\n",
       "<style scoped>\n",
       "    .dataframe tbody tr th:only-of-type {\n",
       "        vertical-align: middle;\n",
       "    }\n",
       "\n",
       "    .dataframe tbody tr th {\n",
       "        vertical-align: top;\n",
       "    }\n",
       "\n",
       "    .dataframe thead th {\n",
       "        text-align: right;\n",
       "    }\n",
       "</style>\n",
       "<table border=\"1\" class=\"dataframe\">\n",
       "  <thead>\n",
       "    <tr style=\"text-align: right;\">\n",
       "      <th></th>\n",
       "      <th>id</th>\n",
       "      <th>name</th>\n",
       "      <th>host_id</th>\n",
       "      <th>host_name</th>\n",
       "      <th>neighbourhood_group</th>\n",
       "      <th>neighbourhood</th>\n",
       "      <th>latitude</th>\n",
       "      <th>longitude</th>\n",
       "      <th>room_type</th>\n",
       "      <th>price</th>\n",
       "      <th>minimum_nights</th>\n",
       "      <th>number_of_reviews</th>\n",
       "      <th>last_review</th>\n",
       "      <th>reviews_per_month</th>\n",
       "      <th>calculated_host_listings_count</th>\n",
       "      <th>availability_365</th>\n",
       "      <th>number_of_reviews_ltm</th>\n",
       "      <th>license</th>\n",
       "    </tr>\n",
       "  </thead>\n",
       "  <tbody>\n",
       "    <tr>\n",
       "      <th>6631</th>\n",
       "      <td>33833730</td>\n",
       "      <td>Serviced apartment in Seattle · ★3.0 · 1 bedro...</td>\n",
       "      <td>124558729</td>\n",
       "      <td>Matt</td>\n",
       "      <td>Downtown</td>\n",
       "      <td>Central Business District</td>\n",
       "      <td>47.60874</td>\n",
       "      <td>-122.33744</td>\n",
       "      <td>Entire home/apt</td>\n",
       "      <td>215</td>\n",
       "      <td>30</td>\n",
       "      <td>3</td>\n",
       "      <td>2019-06-25</td>\n",
       "      <td>0.06</td>\n",
       "      <td>4</td>\n",
       "      <td>0</td>\n",
       "      <td>0</td>\n",
       "      <td>NaN</td>\n",
       "    </tr>\n",
       "    <tr>\n",
       "      <th>6632</th>\n",
       "      <td>33845521</td>\n",
       "      <td>Serviced apartment in Seattle · 1 bedroom · 1 ...</td>\n",
       "      <td>124558729</td>\n",
       "      <td>Matt</td>\n",
       "      <td>Downtown</td>\n",
       "      <td>Central Business District</td>\n",
       "      <td>47.60888</td>\n",
       "      <td>-122.33545</td>\n",
       "      <td>Entire home/apt</td>\n",
       "      <td>200</td>\n",
       "      <td>30</td>\n",
       "      <td>0</td>\n",
       "      <td>NaN</td>\n",
       "      <td>NaN</td>\n",
       "      <td>4</td>\n",
       "      <td>0</td>\n",
       "      <td>0</td>\n",
       "      <td>NaN</td>\n",
       "    </tr>\n",
       "    <tr>\n",
       "      <th>6633</th>\n",
       "      <td>4400811</td>\n",
       "      <td>Home in Seattle · ★4.85 · 2 bedrooms · 2 beds ...</td>\n",
       "      <td>4199445</td>\n",
       "      <td>Liam</td>\n",
       "      <td>Rainier Valley</td>\n",
       "      <td>Mount Baker</td>\n",
       "      <td>47.57129</td>\n",
       "      <td>-122.29086</td>\n",
       "      <td>Entire home/apt</td>\n",
       "      <td>189</td>\n",
       "      <td>4</td>\n",
       "      <td>119</td>\n",
       "      <td>2023-06-10</td>\n",
       "      <td>1.15</td>\n",
       "      <td>2</td>\n",
       "      <td>2</td>\n",
       "      <td>9</td>\n",
       "      <td>STR-OPLI-19-001423</td>\n",
       "    </tr>\n",
       "    <tr>\n",
       "      <th>6634</th>\n",
       "      <td>36519711</td>\n",
       "      <td>Home in Seattle · 1 bedroom · 1 bed · 1 privat...</td>\n",
       "      <td>6645582</td>\n",
       "      <td>John</td>\n",
       "      <td>Other neighborhoods</td>\n",
       "      <td>Wedgwood</td>\n",
       "      <td>47.69405</td>\n",
       "      <td>-122.30236</td>\n",
       "      <td>Private room</td>\n",
       "      <td>70</td>\n",
       "      <td>30</td>\n",
       "      <td>0</td>\n",
       "      <td>NaN</td>\n",
       "      <td>NaN</td>\n",
       "      <td>1</td>\n",
       "      <td>0</td>\n",
       "      <td>0</td>\n",
       "      <td>NaN</td>\n",
       "    </tr>\n",
       "    <tr>\n",
       "      <th>6635</th>\n",
       "      <td>51107857</td>\n",
       "      <td>Serviced apartment in Seattle · ★4.30 · 1 bedr...</td>\n",
       "      <td>122723469</td>\n",
       "      <td>Pierre</td>\n",
       "      <td>Other neighborhoods</td>\n",
       "      <td>Fremont</td>\n",
       "      <td>47.65952</td>\n",
       "      <td>-122.34785</td>\n",
       "      <td>Entire home/apt</td>\n",
       "      <td>280</td>\n",
       "      <td>30</td>\n",
       "      <td>10</td>\n",
       "      <td>2021-10-24</td>\n",
       "      <td>0.43</td>\n",
       "      <td>1</td>\n",
       "      <td>0</td>\n",
       "      <td>0</td>\n",
       "      <td>Exempt</td>\n",
       "    </tr>\n",
       "  </tbody>\n",
       "</table>\n",
       "</div>"
      ],
      "text/plain": [
       "            id                                               name    host_id   \n",
       "6631  33833730  Serviced apartment in Seattle · ★3.0 · 1 bedro...  124558729  \\\n",
       "6632  33845521  Serviced apartment in Seattle · 1 bedroom · 1 ...  124558729   \n",
       "6633   4400811  Home in Seattle · ★4.85 · 2 bedrooms · 2 beds ...    4199445   \n",
       "6634  36519711  Home in Seattle · 1 bedroom · 1 bed · 1 privat...    6645582   \n",
       "6635  51107857  Serviced apartment in Seattle · ★4.30 · 1 bedr...  122723469   \n",
       "\n",
       "     host_name  neighbourhood_group              neighbourhood  latitude   \n",
       "6631      Matt             Downtown  Central Business District  47.60874  \\\n",
       "6632      Matt             Downtown  Central Business District  47.60888   \n",
       "6633      Liam       Rainier Valley                Mount Baker  47.57129   \n",
       "6634      John  Other neighborhoods                   Wedgwood  47.69405   \n",
       "6635    Pierre  Other neighborhoods                    Fremont  47.65952   \n",
       "\n",
       "      longitude        room_type  price  minimum_nights  number_of_reviews   \n",
       "6631 -122.33744  Entire home/apt    215              30                  3  \\\n",
       "6632 -122.33545  Entire home/apt    200              30                  0   \n",
       "6633 -122.29086  Entire home/apt    189               4                119   \n",
       "6634 -122.30236     Private room     70              30                  0   \n",
       "6635 -122.34785  Entire home/apt    280              30                 10   \n",
       "\n",
       "     last_review  reviews_per_month  calculated_host_listings_count   \n",
       "6631  2019-06-25               0.06                               4  \\\n",
       "6632         NaN                NaN                               4   \n",
       "6633  2023-06-10               1.15                               2   \n",
       "6634         NaN                NaN                               1   \n",
       "6635  2021-10-24               0.43                               1   \n",
       "\n",
       "      availability_365  number_of_reviews_ltm             license  \n",
       "6631                 0                      0                 NaN  \n",
       "6632                 0                      0                 NaN  \n",
       "6633                 2                      9  STR-OPLI-19-001423  \n",
       "6634                 0                      0                 NaN  \n",
       "6635                 0                      0              Exempt  "
      ]
     },
     "execution_count": 553,
     "metadata": {},
     "output_type": "execute_result"
    }
   ],
   "source": [
    "Airbnb.tail()"
   ]
  },
  {
   "cell_type": "markdown",
   "metadata": {},
   "source": [
    "#### Getting information on the DataFrame"
   ]
  },
  {
   "cell_type": "code",
   "execution_count": 554,
   "metadata": {},
   "outputs": [
    {
     "name": "stdout",
     "output_type": "stream",
     "text": [
      "<class 'pandas.core.frame.DataFrame'>\n",
      "RangeIndex: 6636 entries, 0 to 6635\n",
      "Data columns (total 18 columns):\n",
      " #   Column                          Non-Null Count  Dtype  \n",
      "---  ------                          --------------  -----  \n",
      " 0   id                              6636 non-null   int64  \n",
      " 1   name                            6636 non-null   object \n",
      " 2   host_id                         6636 non-null   int64  \n",
      " 3   host_name                       6636 non-null   object \n",
      " 4   neighbourhood_group             6636 non-null   object \n",
      " 5   neighbourhood                   6636 non-null   object \n",
      " 6   latitude                        6636 non-null   float64\n",
      " 7   longitude                       6636 non-null   float64\n",
      " 8   room_type                       6636 non-null   object \n",
      " 9   price                           6636 non-null   int64  \n",
      " 10  minimum_nights                  6636 non-null   int64  \n",
      " 11  number_of_reviews               6636 non-null   int64  \n",
      " 12  last_review                     5562 non-null   object \n",
      " 13  reviews_per_month               5562 non-null   float64\n",
      " 14  calculated_host_listings_count  6636 non-null   int64  \n",
      " 15  availability_365                6636 non-null   int64  \n",
      " 16  number_of_reviews_ltm           6636 non-null   int64  \n",
      " 17  license                         4508 non-null   object \n",
      "dtypes: float64(3), int64(8), object(7)\n",
      "memory usage: 933.3+ KB\n"
     ]
    }
   ],
   "source": [
    "Airbnb.info()"
   ]
  },
  {
   "cell_type": "markdown",
   "metadata": {},
   "source": [
    "## Extracting subsets"
   ]
  },
  {
   "cell_type": "markdown",
   "metadata": {},
   "source": [
    "#### The name column stood out for its odd characters and string of information."
   ]
  },
  {
   "cell_type": "code",
   "execution_count": 555,
   "metadata": {},
   "outputs": [
    {
     "data": {
      "text/plain": [
       "0       Home in Seattle · ★4.79 · 2 bedrooms · 4 beds ...\n",
       "1       Guest suite in Seattle · ★5.0 · 2 bedrooms · 6...\n",
       "2         Serviced apartment in Seattle · Studio · 1 bath\n",
       "3       Rental unit in Seattle · ★5.0 · 1 bedroom · 1 ...\n",
       "4       Home in Seattle · ★4.60 · Studio · 3 beds · 1 ...\n",
       "                              ...                        \n",
       "6631    Serviced apartment in Seattle · ★3.0 · 1 bedro...\n",
       "6632    Serviced apartment in Seattle · 1 bedroom · 1 ...\n",
       "6633    Home in Seattle · ★4.85 · 2 bedrooms · 2 beds ...\n",
       "6634    Home in Seattle · 1 bedroom · 1 bed · 1 privat...\n",
       "6635    Serviced apartment in Seattle · ★4.30 · 1 bedr...\n",
       "Name: name, Length: 6636, dtype: object"
      ]
     },
     "execution_count": 555,
     "metadata": {},
     "output_type": "execute_result"
    }
   ],
   "source": [
    "# Name column seems to consist of stars, seperating dots, and different categories of information\n",
    "Airbnb.name\n"
   ]
  },
  {
   "cell_type": "markdown",
   "metadata": {},
   "source": [
    "#### Looking at a specific row of the name column to see full detail."
   ]
  },
  {
   "cell_type": "code",
   "execution_count": 556,
   "metadata": {},
   "outputs": [
    {
     "data": {
      "text/plain": [
       "'Boutique hotel in Seattle · ★5.0 · 1 bedroom · 3 beds · 1 private bath'"
      ]
     },
     "execution_count": 556,
     "metadata": {},
     "output_type": "execute_result"
    }
   ],
   "source": [
    "Airbnb.loc[81, 'name']"
   ]
  },
  {
   "cell_type": "markdown",
   "metadata": {},
   "source": [
    "#### Inspecting the last_review column since it showed null values when looking at the information on the data."
   ]
  },
  {
   "cell_type": "code",
   "execution_count": 557,
   "metadata": {},
   "outputs": [
    {
     "data": {
      "text/plain": [
       "6626           NaN\n",
       "6627           NaN\n",
       "6628           NaN\n",
       "6629    2023-03-12\n",
       "6630           NaN\n",
       "6631    2019-06-25\n",
       "6632           NaN\n",
       "6633    2023-06-10\n",
       "6634           NaN\n",
       "6635    2021-10-24\n",
       "Name: last_review, dtype: object"
      ]
     },
     "execution_count": 557,
     "metadata": {},
     "output_type": "execute_result"
    }
   ],
   "source": [
    "Airbnb.last_review.tail(10)"
   ]
  },
  {
   "cell_type": "markdown",
   "metadata": {},
   "source": [
    "#### Inspecting the reviews_per_month column since it showed null values when looking at the information on the data."
   ]
  },
  {
   "cell_type": "code",
   "execution_count": 558,
   "metadata": {},
   "outputs": [
    {
     "data": {
      "text/plain": [
       "6606    2.78\n",
       "6607    0.50\n",
       "6608     NaN\n",
       "6609     NaN\n",
       "6610    1.32\n",
       "6611    1.66\n",
       "6612     NaN\n",
       "6613    0.40\n",
       "6614    0.07\n",
       "6615    0.16\n",
       "6616     NaN\n",
       "6617    0.97\n",
       "6618     NaN\n",
       "6619    3.39\n",
       "6620    2.05\n",
       "6621     NaN\n",
       "6622     NaN\n",
       "6623     NaN\n",
       "6624    0.06\n",
       "6625    0.39\n",
       "6626     NaN\n",
       "6627     NaN\n",
       "6628     NaN\n",
       "6629    2.38\n",
       "6630     NaN\n",
       "6631    0.06\n",
       "6632     NaN\n",
       "6633    1.15\n",
       "6634     NaN\n",
       "6635    0.43\n",
       "Name: reviews_per_month, dtype: float64"
      ]
     },
     "execution_count": 558,
     "metadata": {},
     "output_type": "execute_result"
    }
   ],
   "source": [
    "Airbnb.reviews_per_month.tail(30)"
   ]
  },
  {
   "cell_type": "markdown",
   "metadata": {},
   "source": [
    "#### Inspecting the license column since it showed null values when looking at the information on the data."
   ]
  },
  {
   "cell_type": "code",
   "execution_count": 559,
   "metadata": {},
   "outputs": [
    {
     "data": {
      "text/plain": [
       "6606    STR-OPLI-22-000717\n",
       "6607    STR-OPLI-19-002092\n",
       "6608                   NaN\n",
       "6609                   NaN\n",
       "6610    STR-OPLI-19-000121\n",
       "6611                Exempt\n",
       "6612                   NaN\n",
       "6613                   NaN\n",
       "6614                   NaN\n",
       "6615                   NaN\n",
       "6616                   NaN\n",
       "6617    STR-OPLI-19-000701\n",
       "6618                   NaN\n",
       "6619    STR-OPLI-21-001395\n",
       "6620                Exempt\n",
       "6621                   NaN\n",
       "6622                   NaN\n",
       "6623                   NaN\n",
       "6624                   NaN\n",
       "6625    STR-OPLI-22-001283\n",
       "6626                   NaN\n",
       "6627    STR-OPLI-19-152434\n",
       "6628                   NaN\n",
       "6629                Exempt\n",
       "6630                   NaN\n",
       "6631                   NaN\n",
       "6632                   NaN\n",
       "6633    STR-OPLI-19-001423\n",
       "6634                   NaN\n",
       "6635                Exempt\n",
       "Name: license, dtype: object"
      ]
     },
     "execution_count": 559,
     "metadata": {},
     "output_type": "execute_result"
    }
   ],
   "source": [
    "Airbnb.license.tail(30)"
   ]
  },
  {
   "cell_type": "markdown",
   "metadata": {},
   "source": [
    "## Cleaning the data\n",
    "The 'last_review', 'reviews_per_month', and 'license' contain null values I plan to adress by using the .fillna() and .drop() functions."
   ]
  },
  {
   "cell_type": "markdown",
   "metadata": {},
   "source": [
    "#### Replacing the null values in the last_review column with N/A."
   ]
  },
  {
   "cell_type": "code",
   "execution_count": 560,
   "metadata": {},
   "outputs": [
    {
     "data": {
      "text/html": [
       "<div>\n",
       "<style scoped>\n",
       "    .dataframe tbody tr th:only-of-type {\n",
       "        vertical-align: middle;\n",
       "    }\n",
       "\n",
       "    .dataframe tbody tr th {\n",
       "        vertical-align: top;\n",
       "    }\n",
       "\n",
       "    .dataframe thead th {\n",
       "        text-align: right;\n",
       "    }\n",
       "</style>\n",
       "<table border=\"1\" class=\"dataframe\">\n",
       "  <thead>\n",
       "    <tr style=\"text-align: right;\">\n",
       "      <th></th>\n",
       "      <th>last_review</th>\n",
       "    </tr>\n",
       "  </thead>\n",
       "  <tbody>\n",
       "    <tr>\n",
       "      <th>0</th>\n",
       "      <td>2022-12-01</td>\n",
       "    </tr>\n",
       "    <tr>\n",
       "      <th>1</th>\n",
       "      <td>2023-06-13</td>\n",
       "    </tr>\n",
       "    <tr>\n",
       "      <th>2</th>\n",
       "      <td>2023-04-10</td>\n",
       "    </tr>\n",
       "    <tr>\n",
       "      <th>3</th>\n",
       "      <td>2023-05-06</td>\n",
       "    </tr>\n",
       "    <tr>\n",
       "      <th>4</th>\n",
       "      <td>2022-07-31</td>\n",
       "    </tr>\n",
       "    <tr>\n",
       "      <th>...</th>\n",
       "      <td>...</td>\n",
       "    </tr>\n",
       "    <tr>\n",
       "      <th>6631</th>\n",
       "      <td>2019-06-25</td>\n",
       "    </tr>\n",
       "    <tr>\n",
       "      <th>6632</th>\n",
       "      <td>N/A</td>\n",
       "    </tr>\n",
       "    <tr>\n",
       "      <th>6633</th>\n",
       "      <td>2023-06-10</td>\n",
       "    </tr>\n",
       "    <tr>\n",
       "      <th>6634</th>\n",
       "      <td>N/A</td>\n",
       "    </tr>\n",
       "    <tr>\n",
       "      <th>6635</th>\n",
       "      <td>2021-10-24</td>\n",
       "    </tr>\n",
       "  </tbody>\n",
       "</table>\n",
       "<p>6636 rows × 1 columns</p>\n",
       "</div>"
      ],
      "text/plain": [
       "     last_review\n",
       "0     2022-12-01\n",
       "1     2023-06-13\n",
       "2     2023-04-10\n",
       "3     2023-05-06\n",
       "4     2022-07-31\n",
       "...          ...\n",
       "6631  2019-06-25\n",
       "6632         N/A\n",
       "6633  2023-06-10\n",
       "6634         N/A\n",
       "6635  2021-10-24\n",
       "\n",
       "[6636 rows x 1 columns]"
      ]
     },
     "execution_count": 560,
     "metadata": {},
     "output_type": "execute_result"
    }
   ],
   "source": [
    "# Missing dates are not applicable therefore N/A\n",
    "Airbnb['last_review'] = Airbnb['last_review'].fillna('N/A')\n",
    "# Checking the last_review column\n",
    "Airbnb[['last_review']]"
   ]
  },
  {
   "cell_type": "markdown",
   "metadata": {},
   "source": [
    "#### Replacing the null values in the reviews_per_month column with 0."
   ]
  },
  {
   "cell_type": "code",
   "execution_count": 561,
   "metadata": {},
   "outputs": [
    {
     "data": {
      "text/html": [
       "<div>\n",
       "<style scoped>\n",
       "    .dataframe tbody tr th:only-of-type {\n",
       "        vertical-align: middle;\n",
       "    }\n",
       "\n",
       "    .dataframe tbody tr th {\n",
       "        vertical-align: top;\n",
       "    }\n",
       "\n",
       "    .dataframe thead th {\n",
       "        text-align: right;\n",
       "    }\n",
       "</style>\n",
       "<table border=\"1\" class=\"dataframe\">\n",
       "  <thead>\n",
       "    <tr style=\"text-align: right;\">\n",
       "      <th></th>\n",
       "      <th>reviews_per_month</th>\n",
       "    </tr>\n",
       "  </thead>\n",
       "  <tbody>\n",
       "    <tr>\n",
       "      <th>0</th>\n",
       "      <td>0.28</td>\n",
       "    </tr>\n",
       "    <tr>\n",
       "      <th>1</th>\n",
       "      <td>0.71</td>\n",
       "    </tr>\n",
       "    <tr>\n",
       "      <th>2</th>\n",
       "      <td>0.44</td>\n",
       "    </tr>\n",
       "    <tr>\n",
       "      <th>3</th>\n",
       "      <td>0.38</td>\n",
       "    </tr>\n",
       "    <tr>\n",
       "      <th>4</th>\n",
       "      <td>0.38</td>\n",
       "    </tr>\n",
       "    <tr>\n",
       "      <th>...</th>\n",
       "      <td>...</td>\n",
       "    </tr>\n",
       "    <tr>\n",
       "      <th>6631</th>\n",
       "      <td>0.06</td>\n",
       "    </tr>\n",
       "    <tr>\n",
       "      <th>6632</th>\n",
       "      <td>0</td>\n",
       "    </tr>\n",
       "    <tr>\n",
       "      <th>6633</th>\n",
       "      <td>1.15</td>\n",
       "    </tr>\n",
       "    <tr>\n",
       "      <th>6634</th>\n",
       "      <td>0</td>\n",
       "    </tr>\n",
       "    <tr>\n",
       "      <th>6635</th>\n",
       "      <td>0.43</td>\n",
       "    </tr>\n",
       "  </tbody>\n",
       "</table>\n",
       "<p>6636 rows × 1 columns</p>\n",
       "</div>"
      ],
      "text/plain": [
       "     reviews_per_month\n",
       "0                 0.28\n",
       "1                 0.71\n",
       "2                 0.44\n",
       "3                 0.38\n",
       "4                 0.38\n",
       "...                ...\n",
       "6631              0.06\n",
       "6632                 0\n",
       "6633              1.15\n",
       "6634                 0\n",
       "6635              0.43\n",
       "\n",
       "[6636 rows x 1 columns]"
      ]
     },
     "execution_count": 561,
     "metadata": {},
     "output_type": "execute_result"
    }
   ],
   "source": [
    "Airbnb['reviews_per_month'] = Airbnb['reviews_per_month'].fillna('0')\n",
    "Airbnb[['reviews_per_month']]"
   ]
  },
  {
   "cell_type": "markdown",
   "metadata": {},
   "source": [
    "#### Dropping the license column"
   ]
  },
  {
   "cell_type": "code",
   "execution_count": 562,
   "metadata": {},
   "outputs": [
    {
     "data": {
      "text/html": [
       "<div>\n",
       "<style scoped>\n",
       "    .dataframe tbody tr th:only-of-type {\n",
       "        vertical-align: middle;\n",
       "    }\n",
       "\n",
       "    .dataframe tbody tr th {\n",
       "        vertical-align: top;\n",
       "    }\n",
       "\n",
       "    .dataframe thead th {\n",
       "        text-align: right;\n",
       "    }\n",
       "</style>\n",
       "<table border=\"1\" class=\"dataframe\">\n",
       "  <thead>\n",
       "    <tr style=\"text-align: right;\">\n",
       "      <th></th>\n",
       "      <th>id</th>\n",
       "      <th>name</th>\n",
       "      <th>host_id</th>\n",
       "      <th>host_name</th>\n",
       "      <th>neighbourhood_group</th>\n",
       "      <th>neighbourhood</th>\n",
       "      <th>latitude</th>\n",
       "      <th>longitude</th>\n",
       "      <th>room_type</th>\n",
       "      <th>price</th>\n",
       "      <th>minimum_nights</th>\n",
       "      <th>number_of_reviews</th>\n",
       "      <th>last_review</th>\n",
       "      <th>reviews_per_month</th>\n",
       "      <th>calculated_host_listings_count</th>\n",
       "      <th>availability_365</th>\n",
       "      <th>number_of_reviews_ltm</th>\n",
       "    </tr>\n",
       "  </thead>\n",
       "  <tbody>\n",
       "    <tr>\n",
       "      <th>0</th>\n",
       "      <td>13226114</td>\n",
       "      <td>Home in Seattle · ★4.79 · 2 bedrooms · 4 beds ...</td>\n",
       "      <td>1884549</td>\n",
       "      <td>Denise &amp; Sean</td>\n",
       "      <td>Rainier Valley</td>\n",
       "      <td>Columbia City</td>\n",
       "      <td>47.56555</td>\n",
       "      <td>-122.29385</td>\n",
       "      <td>Entire home/apt</td>\n",
       "      <td>240</td>\n",
       "      <td>4</td>\n",
       "      <td>24</td>\n",
       "      <td>2022-12-01</td>\n",
       "      <td>0.28</td>\n",
       "      <td>1</td>\n",
       "      <td>9</td>\n",
       "      <td>5</td>\n",
       "    </tr>\n",
       "    <tr>\n",
       "      <th>1</th>\n",
       "      <td>12518952</td>\n",
       "      <td>Guest suite in Seattle · ★5.0 · 2 bedrooms · 6...</td>\n",
       "      <td>12677600</td>\n",
       "      <td>Joe</td>\n",
       "      <td>Other neighborhoods</td>\n",
       "      <td>Green Lake</td>\n",
       "      <td>47.68243</td>\n",
       "      <td>-122.33086</td>\n",
       "      <td>Entire home/apt</td>\n",
       "      <td>200</td>\n",
       "      <td>3</td>\n",
       "      <td>60</td>\n",
       "      <td>2023-06-13</td>\n",
       "      <td>0.71</td>\n",
       "      <td>1</td>\n",
       "      <td>113</td>\n",
       "      <td>9</td>\n",
       "    </tr>\n",
       "    <tr>\n",
       "      <th>2</th>\n",
       "      <td>521597880867717063</td>\n",
       "      <td>Serviced apartment in Seattle · Studio · 1 bath</td>\n",
       "      <td>48005494</td>\n",
       "      <td>Zeus</td>\n",
       "      <td>Ballard</td>\n",
       "      <td>Adams</td>\n",
       "      <td>47.66646</td>\n",
       "      <td>-122.37650</td>\n",
       "      <td>Entire home/apt</td>\n",
       "      <td>81</td>\n",
       "      <td>30</td>\n",
       "      <td>2</td>\n",
       "      <td>2023-04-10</td>\n",
       "      <td>0.44</td>\n",
       "      <td>36</td>\n",
       "      <td>191</td>\n",
       "      <td>2</td>\n",
       "    </tr>\n",
       "    <tr>\n",
       "      <th>3</th>\n",
       "      <td>17889172</td>\n",
       "      <td>Rental unit in Seattle · ★5.0 · 1 bedroom · 1 ...</td>\n",
       "      <td>66909032</td>\n",
       "      <td>Randy</td>\n",
       "      <td>Other neighborhoods</td>\n",
       "      <td>Wallingford</td>\n",
       "      <td>47.65480</td>\n",
       "      <td>-122.34042</td>\n",
       "      <td>Entire home/apt</td>\n",
       "      <td>125</td>\n",
       "      <td>30</td>\n",
       "      <td>28</td>\n",
       "      <td>2023-05-06</td>\n",
       "      <td>0.38</td>\n",
       "      <td>4</td>\n",
       "      <td>307</td>\n",
       "      <td>4</td>\n",
       "    </tr>\n",
       "    <tr>\n",
       "      <th>4</th>\n",
       "      <td>15917796</td>\n",
       "      <td>Home in Seattle · ★4.60 · Studio · 3 beds · 1 ...</td>\n",
       "      <td>38021932</td>\n",
       "      <td>Rocky</td>\n",
       "      <td>Capitol Hill</td>\n",
       "      <td>Montlake</td>\n",
       "      <td>47.64017</td>\n",
       "      <td>-122.32271</td>\n",
       "      <td>Entire home/apt</td>\n",
       "      <td>128</td>\n",
       "      <td>30</td>\n",
       "      <td>31</td>\n",
       "      <td>2022-07-31</td>\n",
       "      <td>0.38</td>\n",
       "      <td>1</td>\n",
       "      <td>316</td>\n",
       "      <td>2</td>\n",
       "    </tr>\n",
       "  </tbody>\n",
       "</table>\n",
       "</div>"
      ],
      "text/plain": [
       "                   id                                               name   \n",
       "0            13226114  Home in Seattle · ★4.79 · 2 bedrooms · 4 beds ...  \\\n",
       "1            12518952  Guest suite in Seattle · ★5.0 · 2 bedrooms · 6...   \n",
       "2  521597880867717063    Serviced apartment in Seattle · Studio · 1 bath   \n",
       "3            17889172  Rental unit in Seattle · ★5.0 · 1 bedroom · 1 ...   \n",
       "4            15917796  Home in Seattle · ★4.60 · Studio · 3 beds · 1 ...   \n",
       "\n",
       "    host_id      host_name  neighbourhood_group  neighbourhood  latitude   \n",
       "0   1884549  Denise & Sean       Rainier Valley  Columbia City  47.56555  \\\n",
       "1  12677600            Joe  Other neighborhoods     Green Lake  47.68243   \n",
       "2  48005494           Zeus              Ballard          Adams  47.66646   \n",
       "3  66909032          Randy  Other neighborhoods    Wallingford  47.65480   \n",
       "4  38021932          Rocky         Capitol Hill       Montlake  47.64017   \n",
       "\n",
       "   longitude        room_type  price  minimum_nights  number_of_reviews   \n",
       "0 -122.29385  Entire home/apt    240               4                 24  \\\n",
       "1 -122.33086  Entire home/apt    200               3                 60   \n",
       "2 -122.37650  Entire home/apt     81              30                  2   \n",
       "3 -122.34042  Entire home/apt    125              30                 28   \n",
       "4 -122.32271  Entire home/apt    128              30                 31   \n",
       "\n",
       "  last_review reviews_per_month  calculated_host_listings_count   \n",
       "0  2022-12-01              0.28                               1  \\\n",
       "1  2023-06-13              0.71                               1   \n",
       "2  2023-04-10              0.44                              36   \n",
       "3  2023-05-06              0.38                               4   \n",
       "4  2022-07-31              0.38                               1   \n",
       "\n",
       "   availability_365  number_of_reviews_ltm  \n",
       "0                 9                      5  \n",
       "1               113                      9  \n",
       "2               191                      2  \n",
       "3               307                      4  \n",
       "4               316                      2  "
      ]
     },
     "execution_count": 562,
     "metadata": {},
     "output_type": "execute_result"
    }
   ],
   "source": [
    "Airbnb.drop(columns=['license'], inplace=True)\n",
    "Airbnb.head()"
   ]
  },
  {
   "cell_type": "markdown",
   "metadata": {},
   "source": [
    "## Data Transformations\n",
    "I will be using .extract(), .replace(), .loc(), .fillna(), and .drop() functions to parse the data from the 'name' \n",
    "column and create new columns using their details. "
   ]
  },
  {
   "cell_type": "markdown",
   "metadata": {},
   "source": [
    "#### Creating a rating column"
   ]
  },
  {
   "cell_type": "code",
   "execution_count": 563,
   "metadata": {},
   "outputs": [
    {
     "data": {
      "text/plain": [
       "6631     3.0\n",
       "6632     N/A\n",
       "6633    4.85\n",
       "6634     N/A\n",
       "6635    4.30\n",
       "Name: rating, dtype: object"
      ]
     },
     "execution_count": 563,
     "metadata": {},
     "output_type": "execute_result"
    }
   ],
   "source": [
    "# Extracting rating from the name column to be turned into a rating column\n",
    "Airbnb['rating'] = Airbnb['name'].str.extract('(\\★\\d+\\.\\d+)', expand=False).str.replace('★','')\n",
    "# replace null values with N/A\n",
    "Airbnb['rating'] = Airbnb['rating'].fillna('N/A')\n",
    "\n",
    "# Viewing the new rating column\n",
    "Airbnb.rating.tail()"
   ]
  },
  {
   "cell_type": "markdown",
   "metadata": {},
   "source": [
    "#### Creating a bedrooms column"
   ]
  },
  {
   "cell_type": "code",
   "execution_count": 564,
   "metadata": {},
   "outputs": [
    {
     "data": {
      "text/plain": [
       "6631    1\n",
       "6632    1\n",
       "6633    2\n",
       "6634    1\n",
       "6635    1\n",
       "Name: bedrooms, dtype: int32"
      ]
     },
     "execution_count": 564,
     "metadata": {},
     "output_type": "execute_result"
    }
   ],
   "source": [
    "# Extracting bedrooms information from the name column to be turned into a bedrooms column\n",
    "Airbnb['bedrooms'] = Airbnb['name'].str.extract('(\\d+\\sbedroom[s]*)', expand=False)\n",
    "Airbnb['bedrooms'] = Airbnb['bedrooms'].str.extract('(\\d+)', expand=False)\n",
    "# Ensuring specific values are accounted for (ex. Studio = no bedrooms)\n",
    "Airbnb.loc[Airbnb['name'].str.contains('studio', case=False), 'bedrooms'] = '0'\n",
    "# Replacing NaN values with 0 in the 'bedrooms' column\n",
    "Airbnb['bedrooms'] = Airbnb['bedrooms'].fillna(0)\n",
    "# Converting 'bedrooms' column to integer\n",
    "Airbnb['bedrooms'] = Airbnb['bedrooms'].astype(int)\n",
    "# Viewing the new bedrooms column\n",
    "Airbnb.bedrooms.tail()\n"
   ]
  },
  {
   "cell_type": "markdown",
   "metadata": {},
   "source": [
    "#### Creating a beds column"
   ]
  },
  {
   "cell_type": "code",
   "execution_count": 565,
   "metadata": {},
   "outputs": [
    {
     "data": {
      "text/plain": [
       "6631    1\n",
       "6632    1\n",
       "6633    2\n",
       "6634    1\n",
       "6635    1\n",
       "Name: beds, dtype: int32"
      ]
     },
     "execution_count": 565,
     "metadata": {},
     "output_type": "execute_result"
    }
   ],
   "source": [
    "# Extracting beds information from the name column to be turned into a beds column\n",
    "Airbnb['beds'] = Airbnb['name'].str.extract('(\\d+\\sbed[s]*)', expand=False)\n",
    "Airbnb['beds'] = Airbnb['beds'].str.extract('(\\d+)', expand=False)\n",
    "# Null columns replaced with 0\n",
    "Airbnb['beds'] = Airbnb['beds'].fillna('0')\n",
    "# Converting 'beds' column to integer\n",
    "Airbnb['beds'] = Airbnb['beds'].astype(int)\n",
    "# Viewing the new beds column\n",
    "Airbnb.beds.tail()"
   ]
  },
  {
   "cell_type": "markdown",
   "metadata": {},
   "source": [
    "#### Creating a baths column"
   ]
  },
  {
   "cell_type": "code",
   "execution_count": 566,
   "metadata": {},
   "outputs": [
    {
     "data": {
      "text/plain": [
       "6631    1\n",
       "6632    1\n",
       "6633    2\n",
       "6634    0\n",
       "6635    1\n",
       "Name: baths, dtype: int32"
      ]
     },
     "execution_count": 566,
     "metadata": {},
     "output_type": "execute_result"
    }
   ],
   "source": [
    "# Extracting baths information from the name column to be turned into a baths column\n",
    "Airbnb['baths'] = Airbnb['name'].str.extract('(\\d+\\sbath[s]*)', expand=False)\n",
    "Airbnb['baths'] = Airbnb['baths'].str.extract('(\\d+)', expand=False)\n",
    "# Null columns replaced with 0\n",
    "Airbnb['baths'] = Airbnb['baths'].fillna('0')\n",
    "# Converting 'baths' column to integer\n",
    "Airbnb['baths'] = Airbnb['baths'].astype(int)\n",
    "# Viewing the new baths column\n",
    "Airbnb.baths.tail()"
   ]
  },
  {
   "cell_type": "markdown",
   "metadata": {},
   "source": [
    "#### Rename the 'name' column to 'home_type'"
   ]
  },
  {
   "cell_type": "code",
   "execution_count": 567,
   "metadata": {},
   "outputs": [
    {
     "data": {
      "text/html": [
       "<div>\n",
       "<style scoped>\n",
       "    .dataframe tbody tr th:only-of-type {\n",
       "        vertical-align: middle;\n",
       "    }\n",
       "\n",
       "    .dataframe tbody tr th {\n",
       "        vertical-align: top;\n",
       "    }\n",
       "\n",
       "    .dataframe thead th {\n",
       "        text-align: right;\n",
       "    }\n",
       "</style>\n",
       "<table border=\"1\" class=\"dataframe\">\n",
       "  <thead>\n",
       "    <tr style=\"text-align: right;\">\n",
       "      <th></th>\n",
       "      <th>id</th>\n",
       "      <th>host_id</th>\n",
       "      <th>host_name</th>\n",
       "      <th>neighbourhood_group</th>\n",
       "      <th>neighbourhood</th>\n",
       "      <th>latitude</th>\n",
       "      <th>longitude</th>\n",
       "      <th>room_type</th>\n",
       "      <th>price</th>\n",
       "      <th>minimum_nights</th>\n",
       "      <th>...</th>\n",
       "      <th>last_review</th>\n",
       "      <th>reviews_per_month</th>\n",
       "      <th>calculated_host_listings_count</th>\n",
       "      <th>availability_365</th>\n",
       "      <th>number_of_reviews_ltm</th>\n",
       "      <th>rating</th>\n",
       "      <th>bedrooms</th>\n",
       "      <th>beds</th>\n",
       "      <th>baths</th>\n",
       "      <th>home_type</th>\n",
       "    </tr>\n",
       "  </thead>\n",
       "  <tbody>\n",
       "    <tr>\n",
       "      <th>0</th>\n",
       "      <td>13226114</td>\n",
       "      <td>1884549</td>\n",
       "      <td>Denise &amp; Sean</td>\n",
       "      <td>Rainier Valley</td>\n",
       "      <td>Columbia City</td>\n",
       "      <td>47.56555</td>\n",
       "      <td>-122.29385</td>\n",
       "      <td>Entire home/apt</td>\n",
       "      <td>240</td>\n",
       "      <td>4</td>\n",
       "      <td>...</td>\n",
       "      <td>2022-12-01</td>\n",
       "      <td>0.28</td>\n",
       "      <td>1</td>\n",
       "      <td>9</td>\n",
       "      <td>5</td>\n",
       "      <td>4.79</td>\n",
       "      <td>2</td>\n",
       "      <td>2</td>\n",
       "      <td>2</td>\n",
       "      <td>Home in Seattle</td>\n",
       "    </tr>\n",
       "    <tr>\n",
       "      <th>1</th>\n",
       "      <td>12518952</td>\n",
       "      <td>12677600</td>\n",
       "      <td>Joe</td>\n",
       "      <td>Other neighborhoods</td>\n",
       "      <td>Green Lake</td>\n",
       "      <td>47.68243</td>\n",
       "      <td>-122.33086</td>\n",
       "      <td>Entire home/apt</td>\n",
       "      <td>200</td>\n",
       "      <td>3</td>\n",
       "      <td>...</td>\n",
       "      <td>2023-06-13</td>\n",
       "      <td>0.71</td>\n",
       "      <td>1</td>\n",
       "      <td>113</td>\n",
       "      <td>9</td>\n",
       "      <td>5.0</td>\n",
       "      <td>2</td>\n",
       "      <td>2</td>\n",
       "      <td>1</td>\n",
       "      <td>Guest suite in Seattle</td>\n",
       "    </tr>\n",
       "    <tr>\n",
       "      <th>2</th>\n",
       "      <td>521597880867717063</td>\n",
       "      <td>48005494</td>\n",
       "      <td>Zeus</td>\n",
       "      <td>Ballard</td>\n",
       "      <td>Adams</td>\n",
       "      <td>47.66646</td>\n",
       "      <td>-122.37650</td>\n",
       "      <td>Entire home/apt</td>\n",
       "      <td>81</td>\n",
       "      <td>30</td>\n",
       "      <td>...</td>\n",
       "      <td>2023-04-10</td>\n",
       "      <td>0.44</td>\n",
       "      <td>36</td>\n",
       "      <td>191</td>\n",
       "      <td>2</td>\n",
       "      <td>N/A</td>\n",
       "      <td>0</td>\n",
       "      <td>0</td>\n",
       "      <td>1</td>\n",
       "      <td>Serviced apartment in Seattle</td>\n",
       "    </tr>\n",
       "    <tr>\n",
       "      <th>3</th>\n",
       "      <td>17889172</td>\n",
       "      <td>66909032</td>\n",
       "      <td>Randy</td>\n",
       "      <td>Other neighborhoods</td>\n",
       "      <td>Wallingford</td>\n",
       "      <td>47.65480</td>\n",
       "      <td>-122.34042</td>\n",
       "      <td>Entire home/apt</td>\n",
       "      <td>125</td>\n",
       "      <td>30</td>\n",
       "      <td>...</td>\n",
       "      <td>2023-05-06</td>\n",
       "      <td>0.38</td>\n",
       "      <td>4</td>\n",
       "      <td>307</td>\n",
       "      <td>4</td>\n",
       "      <td>5.0</td>\n",
       "      <td>1</td>\n",
       "      <td>1</td>\n",
       "      <td>1</td>\n",
       "      <td>Rental unit in Seattle</td>\n",
       "    </tr>\n",
       "    <tr>\n",
       "      <th>4</th>\n",
       "      <td>15917796</td>\n",
       "      <td>38021932</td>\n",
       "      <td>Rocky</td>\n",
       "      <td>Capitol Hill</td>\n",
       "      <td>Montlake</td>\n",
       "      <td>47.64017</td>\n",
       "      <td>-122.32271</td>\n",
       "      <td>Entire home/apt</td>\n",
       "      <td>128</td>\n",
       "      <td>30</td>\n",
       "      <td>...</td>\n",
       "      <td>2022-07-31</td>\n",
       "      <td>0.38</td>\n",
       "      <td>1</td>\n",
       "      <td>316</td>\n",
       "      <td>2</td>\n",
       "      <td>4.60</td>\n",
       "      <td>0</td>\n",
       "      <td>3</td>\n",
       "      <td>1</td>\n",
       "      <td>Home in Seattle</td>\n",
       "    </tr>\n",
       "  </tbody>\n",
       "</table>\n",
       "<p>5 rows × 21 columns</p>\n",
       "</div>"
      ],
      "text/plain": [
       "                   id   host_id      host_name  neighbourhood_group   \n",
       "0            13226114   1884549  Denise & Sean       Rainier Valley  \\\n",
       "1            12518952  12677600            Joe  Other neighborhoods   \n",
       "2  521597880867717063  48005494           Zeus              Ballard   \n",
       "3            17889172  66909032          Randy  Other neighborhoods   \n",
       "4            15917796  38021932          Rocky         Capitol Hill   \n",
       "\n",
       "   neighbourhood  latitude  longitude        room_type  price  minimum_nights   \n",
       "0  Columbia City  47.56555 -122.29385  Entire home/apt    240               4  \\\n",
       "1     Green Lake  47.68243 -122.33086  Entire home/apt    200               3   \n",
       "2          Adams  47.66646 -122.37650  Entire home/apt     81              30   \n",
       "3    Wallingford  47.65480 -122.34042  Entire home/apt    125              30   \n",
       "4       Montlake  47.64017 -122.32271  Entire home/apt    128              30   \n",
       "\n",
       "   ...  last_review reviews_per_month calculated_host_listings_count   \n",
       "0  ...   2022-12-01              0.28                              1  \\\n",
       "1  ...   2023-06-13              0.71                              1   \n",
       "2  ...   2023-04-10              0.44                             36   \n",
       "3  ...   2023-05-06              0.38                              4   \n",
       "4  ...   2022-07-31              0.38                              1   \n",
       "\n",
       "   availability_365  number_of_reviews_ltm  rating bedrooms  beds  baths   \n",
       "0                 9                      5    4.79        2     2      2  \\\n",
       "1               113                      9     5.0        2     2      1   \n",
       "2               191                      2     N/A        0     0      1   \n",
       "3               307                      4     5.0        1     1      1   \n",
       "4               316                      2    4.60        0     3      1   \n",
       "\n",
       "                        home_type  \n",
       "0                Home in Seattle   \n",
       "1         Guest suite in Seattle   \n",
       "2  Serviced apartment in Seattle   \n",
       "3         Rental unit in Seattle   \n",
       "4                Home in Seattle   \n",
       "\n",
       "[5 rows x 21 columns]"
      ]
     },
     "execution_count": 567,
     "metadata": {},
     "output_type": "execute_result"
    }
   ],
   "source": [
    "Airbnb['home_type'] = Airbnb['name'].str.split('·').str[0]\n",
    "df = Airbnb.drop(columns=['name'])\n",
    "df.head()"
   ]
  },
  {
   "cell_type": "markdown",
   "metadata": {},
   "source": [
    "#### Viewing info on Cleaned and Transformed DataFrame"
   ]
  },
  {
   "cell_type": "code",
   "execution_count": 568,
   "metadata": {},
   "outputs": [
    {
     "name": "stdout",
     "output_type": "stream",
     "text": [
      "<class 'pandas.core.frame.DataFrame'>\n",
      "RangeIndex: 6636 entries, 0 to 6635\n",
      "Data columns (total 22 columns):\n",
      " #   Column                          Non-Null Count  Dtype  \n",
      "---  ------                          --------------  -----  \n",
      " 0   id                              6636 non-null   int64  \n",
      " 1   name                            6636 non-null   object \n",
      " 2   host_id                         6636 non-null   int64  \n",
      " 3   host_name                       6636 non-null   object \n",
      " 4   neighbourhood_group             6636 non-null   object \n",
      " 5   neighbourhood                   6636 non-null   object \n",
      " 6   latitude                        6636 non-null   float64\n",
      " 7   longitude                       6636 non-null   float64\n",
      " 8   room_type                       6636 non-null   object \n",
      " 9   price                           6636 non-null   int64  \n",
      " 10  minimum_nights                  6636 non-null   int64  \n",
      " 11  number_of_reviews               6636 non-null   int64  \n",
      " 12  last_review                     6636 non-null   object \n",
      " 13  reviews_per_month               6636 non-null   object \n",
      " 14  calculated_host_listings_count  6636 non-null   int64  \n",
      " 15  availability_365                6636 non-null   int64  \n",
      " 16  number_of_reviews_ltm           6636 non-null   int64  \n",
      " 17  rating                          6636 non-null   object \n",
      " 18  bedrooms                        6636 non-null   int32  \n",
      " 19  beds                            6636 non-null   int32  \n",
      " 20  baths                           6636 non-null   int32  \n",
      " 21  home_type                       6636 non-null   object \n",
      "dtypes: float64(2), int32(3), int64(8), object(9)\n",
      "memory usage: 1.0+ MB\n"
     ]
    }
   ],
   "source": [
    "# The ratings column is the only column with null values therefore it is not worth deleting any information\n",
    "Airbnb.info()"
   ]
  },
  {
   "cell_type": "markdown",
   "metadata": {},
   "source": [
    "##  What factors significantly influence the pricing of an Airbnb listing?"
   ]
  },
  {
   "cell_type": "markdown",
   "metadata": {},
   "source": [
    "##### Question 1: Average price of listings in each neighborhood"
   ]
  },
  {
   "cell_type": "code",
   "execution_count": 569,
   "metadata": {},
   "outputs": [
    {
     "name": "stdout",
     "output_type": "stream",
     "text": [
      "Average price of listings in each neighborhood:\n",
      " neighbourhood\n",
      "Industrial District          675.000000\n",
      "Briarcliff                   361.529412\n",
      "Greenwood                    299.721854\n",
      "Harrison/Denny-Blaine        291.481481\n",
      "West Queen Anne              287.508621\n",
      "Fremont                      286.735178\n",
      "Pike-Market                  278.778947\n",
      "Laurelhurst                  275.884615\n",
      "East Queen Anne              269.803922\n",
      "Central Business District    265.060403\n",
      "View Ridge                   251.200000\n",
      "Madrona                      249.000000\n",
      "Alki                         245.537037\n",
      "West Woodland                232.421569\n",
      "Southeast Magnolia           230.875000\n",
      "North Queen Anne             228.184211\n",
      "Phinney Ridge                226.762376\n",
      "Windermere                   221.900000\n",
      "Leschi                       221.875000\n",
      "Stevens                      221.126984\n",
      "Name: price, dtype: float64\n"
     ]
    }
   ],
   "source": [
    "avg_price_neighborhood = Airbnb.groupby('neighbourhood')['price'].mean().sort_values(ascending=False)\n",
    "a = avg_price_neighborhood.head(20)\n",
    "\n",
    "print(\"Average price of listings in each neighborhood:\\n\", a)"
   ]
  },
  {
   "cell_type": "markdown",
   "metadata": {},
   "source": [
    "#### Question 2: What home types are located in Briarcliff and how many listings are there?\n",
    "Since Briarcliff is the neighborhood with the highest average price listing, lets look at what home types are located in this neighborhood."
   ]
  },
  {
   "cell_type": "code",
   "execution_count": 570,
   "metadata": {},
   "outputs": [
    {
     "name": "stdout",
     "output_type": "stream",
     "text": [
      "The home types in Briarcliff are:  ['Home in Seattle ' 'Guest suite in Seattle ' 'Cottage in Seattle '\n",
      " 'Guesthouse in Seattle ']  and there are a total of  17  listings.\n"
     ]
    }
   ],
   "source": [
    "# Filtering for neighborhoods\n",
    "Briarcliff_homes = Airbnb.loc[Airbnb['neighbourhood'] == 'Briarcliff']\n",
    "# Getting unique home types in Briarcliff\n",
    "unique_home_types = Briarcliff_homes['home_type'].unique()\n",
    "# Counting the number of listings in Briarcliff\n",
    "total_listings = Briarcliff_homes['id'].count()\n",
    "\n",
    "print(\"The home types in Briarcliff are: \", unique_home_types, \" and there are a total of \", total_listings, \" listings.\" )"
   ]
  },
  {
   "cell_type": "markdown",
   "metadata": {},
   "source": [
    "#### Question 3: Which type of home has the highest average price?\n",
    "Briarcliff has some homes that have higher average prices."
   ]
  },
  {
   "cell_type": "code",
   "execution_count": 571,
   "metadata": {},
   "outputs": [
    {
     "name": "stdout",
     "output_type": "stream",
     "text": [
      "The home type with the highest average price is: \n",
      " home_type\n",
      "Resort in Seattle                          376.000000\n",
      "Vacation home in Seattle                   334.111111\n",
      "Home in Tukwila                            296.000000\n",
      "Villa in Seattle                           294.200000\n",
      "Home in Seattle                            249.221002\n",
      "Serviced apartment in Seattle              239.081761\n",
      "Townhouse in Seattle                       234.533541\n",
      "Rental unit in Capitol Hill, Seattle       234.000000\n",
      "Bed and breakfast in Seattle               221.384615\n",
      "Boutique hotel in Seattle                  209.920000\n",
      "Condo in Seattle                           206.644128\n",
      "Bungalow in Seattle                        191.585366\n",
      "Camper/RV in Seattle                       188.600000\n",
      "Hotel in Seattle                           186.857143\n",
      "Houseboat in Seattle                       186.400000\n",
      "Cottage in Seattle                         169.954545\n",
      "Loft in Seattle                            167.181818\n",
      "Cabin in Seattle                           162.833333\n",
      "Rental unit in Seattle                     161.722030\n",
      "Aparthotel in Seattle                      150.000000\n",
      "Guesthouse in Seattle                      146.015385\n",
      "Boat in Seattle                            134.857143\n",
      "Guest suite in Seattle                     134.306748\n",
      "Farm stay in Seattle                       129.000000\n",
      "Rental unit in Shoreline                   123.600000\n",
      "Bus in Seattle                             115.000000\n",
      "Home in Lake Forest Park                   112.000000\n",
      "Tiny home in Seattle                       107.888889\n",
      "Cottage in Ballard, Seattle                102.000000\n",
      "Place to stay in Seattle                   100.000000\n",
      "Guesthouse in West Seattle, Washington     100.000000\n",
      "Hostel in Seattle                           95.333333\n",
      "casa particular in Seattle                  93.500000\n",
      "Home in West Seattle                        75.000000\n",
      "Home in Shoreline                           70.000000\n",
      "Tent in Seattle                             65.000000\n",
      "Home in Ballard Seattle                     65.000000\n",
      "Treehouse in Seattle                        55.000000\n",
      "Name: price, dtype: float64\n"
     ]
    }
   ],
   "source": [
    "avg_price_hometype = Airbnb.groupby('home_type')['price'].mean().sort_values(ascending=False)\n",
    "\n",
    "print(\"The home type with the highest average price is: \\n\", avg_price_hometype)"
   ]
  },
  {
   "cell_type": "markdown",
   "metadata": {},
   "source": [
    "#### Question 4: Which neighborhoods have the most reviews?\n",
    "Briarcliff has some of the lowest amount of reviews but somehow has much higher average prices while broadway with the most reviews is not even on the top 20 for average priced listings."
   ]
  },
  {
   "cell_type": "code",
   "execution_count": 572,
   "metadata": {},
   "outputs": [
    {
     "name": "stdout",
     "output_type": "stream",
     "text": [
      "Neighborhoods with the most number of reviews: \n",
      " neighbourhood\n",
      "Broadway               29518\n",
      "Belltown               27976\n",
      "Fremont                23333\n",
      "Wallingford            16917\n",
      "Minor                  15527\n",
      "                       ...  \n",
      "Briarcliff               431\n",
      "Meadowbrook              306\n",
      "Holly Park               301\n",
      "Industrial District      105\n",
      "Harbor Island              0\n",
      "Name: number_of_reviews, Length: 89, dtype: int64\n"
     ]
    }
   ],
   "source": [
    "# Grouping by neighborhood and sum the number of reviews\n",
    "neighborhood_reviews = Airbnb.groupby('neighbourhood')['number_of_reviews'].sum().sort_values(ascending=False)\n",
    "\n",
    "\n",
    "print(\"Neighborhoods with the most number of reviews: \\n\", neighborhood_reviews)"
   ]
  },
  {
   "cell_type": "markdown",
   "metadata": {},
   "source": [
    "##### Question 5: Average price of listings based on number of bedrooms?"
   ]
  },
  {
   "cell_type": "code",
   "execution_count": 573,
   "metadata": {},
   "outputs": [
    {
     "name": "stdout",
     "output_type": "stream",
     "text": [
      "Average price of listings based on number of bedrooms:\n",
      " bedrooms\n",
      "13    919.000000\n",
      "6     830.250000\n",
      "7     561.562500\n",
      "5     517.115385\n",
      "8     464.200000\n",
      "4     395.332061\n",
      "3     329.811558\n",
      "2     218.240522\n",
      "1     138.247322\n",
      "0     133.299720\n",
      "Name: price, dtype: float64\n"
     ]
    }
   ],
   "source": [
    "avg_price_bedrooms = Airbnb.groupby('bedrooms')['price'].mean().sort_values(ascending=False)\n",
    "\n",
    "print(\"Average price of listings based on number of bedrooms:\\n\", avg_price_bedrooms)"
   ]
  },
  {
   "cell_type": "markdown",
   "metadata": {},
   "source": [
    "#### Question 6: What are the average amount of bedrooms for each neighborhood.\n",
    "Briarcliff has a higher average of bedrooms which makes sense since the more bedrooms there are the higher the average price is."
   ]
  },
  {
   "cell_type": "code",
   "execution_count": 574,
   "metadata": {},
   "outputs": [
    {
     "name": "stdout",
     "output_type": "stream",
     "text": [
      "Average bedrooms per neighborhood: \n",
      " neighbourhood\n",
      "View Ridge           2.466667\n",
      "South Beacon Hill    2.361702\n",
      "Briarcliff           2.352941\n",
      "Windermere           2.300000\n",
      "Rainier View         2.230769\n",
      "                       ...   \n",
      "Belltown             1.029940\n",
      "Harbor Island        1.000000\n",
      "Interbay             0.953488\n",
      "Pioneer Square       0.816327\n",
      "Yesler Terrace       0.724138\n",
      "Name: bedrooms, Length: 89, dtype: float64\n"
     ]
    }
   ],
   "source": [
    "# Ensure 'bedrooms' is numerical \n",
    "Airbnb['bedrooms'] = Airbnb['bedrooms'].astype(float)\n",
    "# Grouping by neighborhood and calculating the average bedrooms\n",
    "avg_bedrooms = Airbnb.groupby('neighbourhood')['bedrooms'].mean().sort_values(ascending=False)\n",
    "\n",
    "print(\"Average bedrooms per neighborhood: \\n\", avg_bedrooms)"
   ]
  },
  {
   "cell_type": "markdown",
   "metadata": {},
   "source": [
    "#### Question 7: Average price of listings based on number of beds?"
   ]
  },
  {
   "cell_type": "code",
   "execution_count": 575,
   "metadata": {},
   "outputs": [
    {
     "name": "stdout",
     "output_type": "stream",
     "text": [
      "Average price of listings based on number of beds:\n",
      " beds\n",
      "13    919.000000\n",
      "6     830.250000\n",
      "7     561.562500\n",
      "5     517.115385\n",
      "8     464.200000\n",
      "4     394.307985\n",
      "3     327.112346\n",
      "2     211.818803\n",
      "0     139.562500\n",
      "1     136.995817\n",
      "Name: price, dtype: float64\n"
     ]
    }
   ],
   "source": [
    "avg_price_beds = Airbnb.groupby('beds')['price'].mean().sort_values(ascending=False)\n",
    "\n",
    "print(\"Average price of listings based on number of beds:\\n\", avg_price_beds)"
   ]
  },
  {
   "cell_type": "markdown",
   "metadata": {},
   "source": [
    "#### Question 8: What are the average amount of beds for each neighborhood.\n",
    "Briarcliff has a higher average amount f beds which makes sense since the more beds there are the higher the average price is."
   ]
  },
  {
   "cell_type": "code",
   "execution_count": 576,
   "metadata": {},
   "outputs": [
    {
     "name": "stdout",
     "output_type": "stream",
     "text": [
      "Average beds per neighborhood: \n",
      " neighbourhood\n",
      "View Ridge                2.466667\n",
      "Windermere                2.400000\n",
      "Arbor Heights             2.380952\n",
      "South Beacon Hill         2.361702\n",
      "Briarcliff                2.352941\n",
      "                            ...   \n",
      "Holly Park                1.200000\n",
      "Pioneer Square            1.142857\n",
      "International District    1.043478\n",
      "Harbor Island             1.000000\n",
      "Interbay                  0.976744\n",
      "Name: beds, Length: 89, dtype: float64\n"
     ]
    }
   ],
   "source": [
    "# Ensure 'beds' is numerical\n",
    "Airbnb['bed'] = Airbnb['beds'].astype(float)\n",
    "# Grouping by neighbourhood and calculating the average beds\n",
    "avg_beds = Airbnb.groupby('neighbourhood')['beds'].mean().sort_values(ascending=False)\n",
    "\n",
    "print(\"Average beds per neighborhood: \\n\", avg_beds)"
   ]
  },
  {
   "cell_type": "markdown",
   "metadata": {},
   "source": [
    "##### Question 9: Average price of listings based on number of baths?"
   ]
  },
  {
   "cell_type": "code",
   "execution_count": 577,
   "metadata": {},
   "outputs": [
    {
     "name": "stdout",
     "output_type": "stream",
     "text": [
      "Average price of listings based on number of baths:\n",
      " baths\n",
      "6    1061.750000\n",
      "4     829.727273\n",
      "3     401.658654\n",
      "7     361.000000\n",
      "5     326.996104\n",
      "2     289.048304\n",
      "1     160.335686\n",
      "0      99.901340\n",
      "Name: price, dtype: float64\n"
     ]
    }
   ],
   "source": [
    "avg_price_baths = Airbnb.groupby('baths')['price'].mean().sort_values(ascending=False)\n",
    "\n",
    "print(\"Average price of listings based on number of baths:\\n\", avg_price_baths)"
   ]
  },
  {
   "cell_type": "markdown",
   "metadata": {},
   "source": [
    "#### Question 10: What are the average amount of baths for each neighborhood.\n",
    "Briarcliff has a higher average which makes sense since the more bedrooms there are the higher the average price is."
   ]
  },
  {
   "cell_type": "code",
   "execution_count": 578,
   "metadata": {},
   "outputs": [
    {
     "name": "stdout",
     "output_type": "stream",
     "text": [
      "Average baths per neighborhood: \n",
      " neighbourhood\n",
      "Industrial District       3.000000\n",
      "Briarcliff                2.352941\n",
      "Atlantic                  2.310345\n",
      "Harrison/Denny-Blaine     2.222222\n",
      "View Ridge                2.200000\n",
      "                            ...   \n",
      "Harbor Island             1.000000\n",
      "Bitter Lake               1.000000\n",
      "North College Park        0.950820\n",
      "Holly Park                0.200000\n",
      "International District    0.043478\n",
      "Name: baths, Length: 89, dtype: float64\n"
     ]
    }
   ],
   "source": [
    "# Ensure 'baths' is numerical\n",
    "Airbnb['baths'] = Airbnb['baths'].astype(float)\n",
    "# Grouping by neighborhood and calculating the average baths\n",
    "avg_baths = Airbnb.groupby('neighbourhood')['baths'].mean().sort_values(ascending=False)\n",
    "\n",
    "print(\"Average baths per neighborhood: \\n\", avg_baths)"
   ]
  },
  {
   "cell_type": "markdown",
   "metadata": {},
   "source": [
    "##### Question 11: Average price of listings based on ratings?"
   ]
  },
  {
   "cell_type": "code",
   "execution_count": 579,
   "metadata": {},
   "outputs": [
    {
     "name": "stdout",
     "output_type": "stream",
     "text": [
      "Average price of listings based on ratings:\n",
      " rating\n",
      "4.25    1076.727273\n",
      "4.33    1058.260870\n",
      "4.37     894.000000\n",
      "2.60     450.000000\n",
      "4.67     298.976744\n",
      "           ...     \n",
      "3.74      53.000000\n",
      "2.75      52.000000\n",
      "3.81      49.000000\n",
      "4.10      31.000000\n",
      "0.0       28.000000\n",
      "Name: price, Length: 129, dtype: float64\n"
     ]
    }
   ],
   "source": [
    "avg_price_ratings = Airbnb.groupby('rating')['price'].mean().sort_values(ascending=False)\n",
    "\n",
    "print(\"Average price of listings based on ratings:\\n\", avg_price_ratings)"
   ]
  },
  {
   "cell_type": "markdown",
   "metadata": {},
   "source": [
    "## Conclusion\n",
    "\n",
    "Based on the data analysis, several factors significantly influence the pricing of an Airbnb listing.\n",
    "\n",
    "Neighborhood: The neighborhood in which the listing is located plays a crucial role in its price. For example, listings in the Industrial District and Briarcliff are priced significantly higher than in other neighborhoods.\n",
    "\n",
    "Property type: The type of property also affects the price. For instance, Resorts and Vacation homes in Seattle have higher average prices.\n",
    "Number of Bedrooms: Generally, the more bedrooms a listing has, the higher the price. Listings with more than 6 bedrooms are the most expensive on average.\n",
    "\n",
    "Number of Beds: Similar to bedrooms, listings with more beds tend to have higher prices.\n",
    "\n",
    "Number of Baths: Again, listings with more baths tend to have higher prices.\n",
    "\n",
    "Ratings: Listings with higher ratings also tend to be priced higher. However, there are some exceptions, such as the listing with a rating of 4.25 being the most expensive on average.\n",
    "\n",
    "Interestingly, while the Briarcliff neighborhood has the highest average listing price, it doesn't have the most reviews, suggesting that price and number of reviews are not directly related. In contrast, Broadway, which has the most reviews, doesn't feature in the top 20 for average priced listings. Taking all these factors into account, it can be concluded that the price of an Airbnb listing is influenced by a combination of its location, property type, number of bedrooms, beds, and baths, and its rating. However, the number of reviews a listing has does not seem to significantly effect its price. This information can be used by both hosts and guests to make informed decisions. Hosts can use it to price their listings competitively, taking into account the features of their property and its location. Guests can use it to find listings that offer the best value for their needs and budget."
   ]
  }
 ],
 "metadata": {
  "kernelspec": {
   "display_name": "Python 3",
   "language": "python",
   "name": "python3"
  },
  "language_info": {
   "codemirror_mode": {
    "name": "ipython",
    "version": 3
   },
   "file_extension": ".py",
   "mimetype": "text/x-python",
   "name": "python",
   "nbconvert_exporter": "python",
   "pygments_lexer": "ipython3",
   "version": "3.11.3"
  },
  "orig_nbformat": 4
 },
 "nbformat": 4,
 "nbformat_minor": 2
}
